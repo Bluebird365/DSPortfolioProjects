{
 "cells": [
  {
   "cell_type": "code",
   "execution_count": 1,
   "id": "352af882-25b0-44ef-b352-08e6adab3cb2",
   "metadata": {},
   "outputs": [],
   "source": [
    "import yfinance as yf\n",
    "import pandas as pd"
   ]
  },
  {
   "cell_type": "markdown",
   "id": "2a95dc6c-22fd-4c0a-be53-b662bdd86923",
   "metadata": {},
   "source": [
    "### Import Data\n",
    "\n",
    "Import data from Yahoo Finance Website\n"
   ]
  },
  {
   "cell_type": "code",
   "execution_count": 2,
   "id": "e5d92456-5f9a-41c7-8091-2e7fab169fed",
   "metadata": {},
   "outputs": [],
   "source": [
    "sp500 = yf.Ticker(\"^GSPC\") "
   ]
  },
  {
   "cell_type": "code",
   "execution_count": 3,
   "id": "f1605187-d1a8-4125-9ace-b9204f0d4a83",
   "metadata": {},
   "outputs": [],
   "source": [
    "sp500 = sp500.history(period=\"max\")"
   ]
  },
  {
   "cell_type": "code",
   "execution_count": null,
   "id": "3fbb4a08-351b-4af5-9d83-7204546aec7f",
   "metadata": {},
   "outputs": [],
   "source": [
    "sp500.index = pd.to_datetime(sp500.index)"
   ]
  },
  {
   "cell_type": "code",
   "execution_count": 37,
   "id": "4cd2b7da-ae96-42ca-999f-3c6136fa9fff",
   "metadata": {
    "scrolled": true
   },
   "outputs": [
    {
     "data": {
      "text/html": [
       "<div>\n",
       "<style scoped>\n",
       "    .dataframe tbody tr th:only-of-type {\n",
       "        vertical-align: middle;\n",
       "    }\n",
       "\n",
       "    .dataframe tbody tr th {\n",
       "        vertical-align: top;\n",
       "    }\n",
       "\n",
       "    .dataframe thead th {\n",
       "        text-align: right;\n",
       "    }\n",
       "</style>\n",
       "<table border=\"1\" class=\"dataframe\">\n",
       "  <thead>\n",
       "    <tr style=\"text-align: right;\">\n",
       "      <th></th>\n",
       "      <th>Close</th>\n",
       "      <th>Volume</th>\n",
       "      <th>Tomorrow</th>\n",
       "      <th>Target</th>\n",
       "      <th>Close_Ratio_2</th>\n",
       "      <th>Trend_2</th>\n",
       "      <th>Close_Ratio_5</th>\n",
       "      <th>Trend_5</th>\n",
       "      <th>Close_Ratio_60</th>\n",
       "      <th>Trend_60</th>\n",
       "      <th>Close_Ratio_250</th>\n",
       "      <th>Trend_250</th>\n",
       "      <th>Close_Ratio_1000</th>\n",
       "      <th>Trend_1000</th>\n",
       "    </tr>\n",
       "  </thead>\n",
       "  <tbody>\n",
       "    <tr>\n",
       "      <th>1931-12-29</th>\n",
       "      <td>7.960000</td>\n",
       "      <td>0</td>\n",
       "      <td>8.100000</td>\n",
       "      <td>1</td>\n",
       "      <td>1.012723</td>\n",
       "      <td>1.0</td>\n",
       "      <td>0.996994</td>\n",
       "      <td>3.0</td>\n",
       "      <td>0.821282</td>\n",
       "      <td>24.0</td>\n",
       "      <td>0.582074</td>\n",
       "      <td>105.0</td>\n",
       "      <td>0.394305</td>\n",
       "      <td>521.0</td>\n",
       "    </tr>\n",
       "    <tr>\n",
       "      <th>1931-12-30</th>\n",
       "      <td>8.100000</td>\n",
       "      <td>0</td>\n",
       "      <td>8.120000</td>\n",
       "      <td>1</td>\n",
       "      <td>1.008717</td>\n",
       "      <td>2.0</td>\n",
       "      <td>1.019381</td>\n",
       "      <td>3.0</td>\n",
       "      <td>0.837787</td>\n",
       "      <td>25.0</td>\n",
       "      <td>0.593657</td>\n",
       "      <td>105.0</td>\n",
       "      <td>0.401432</td>\n",
       "      <td>521.0</td>\n",
       "    </tr>\n",
       "    <tr>\n",
       "      <th>1931-12-31</th>\n",
       "      <td>8.120000</td>\n",
       "      <td>0</td>\n",
       "      <td>7.560000</td>\n",
       "      <td>0</td>\n",
       "      <td>1.001233</td>\n",
       "      <td>2.0</td>\n",
       "      <td>1.017544</td>\n",
       "      <td>4.0</td>\n",
       "      <td>0.842149</td>\n",
       "      <td>25.0</td>\n",
       "      <td>0.596489</td>\n",
       "      <td>105.0</td>\n",
       "      <td>0.402615</td>\n",
       "      <td>522.0</td>\n",
       "    </tr>\n",
       "    <tr>\n",
       "      <th>1932-01-04</th>\n",
       "      <td>7.560000</td>\n",
       "      <td>0</td>\n",
       "      <td>7.550000</td>\n",
       "      <td>0</td>\n",
       "      <td>0.964286</td>\n",
       "      <td>1.0</td>\n",
       "      <td>0.956962</td>\n",
       "      <td>3.0</td>\n",
       "      <td>0.785781</td>\n",
       "      <td>25.0</td>\n",
       "      <td>0.556754</td>\n",
       "      <td>104.0</td>\n",
       "      <td>0.375034</td>\n",
       "      <td>522.0</td>\n",
       "    </tr>\n",
       "    <tr>\n",
       "      <th>1932-01-05</th>\n",
       "      <td>7.550000</td>\n",
       "      <td>0</td>\n",
       "      <td>8.080000</td>\n",
       "      <td>1</td>\n",
       "      <td>0.999338</td>\n",
       "      <td>0.0</td>\n",
       "      <td>0.960804</td>\n",
       "      <td>3.0</td>\n",
       "      <td>0.787963</td>\n",
       "      <td>24.0</td>\n",
       "      <td>0.557255</td>\n",
       "      <td>104.0</td>\n",
       "      <td>0.374726</td>\n",
       "      <td>521.0</td>\n",
       "    </tr>\n",
       "    <tr>\n",
       "      <th>...</th>\n",
       "      <td>...</td>\n",
       "      <td>...</td>\n",
       "      <td>...</td>\n",
       "      <td>...</td>\n",
       "      <td>...</td>\n",
       "      <td>...</td>\n",
       "      <td>...</td>\n",
       "      <td>...</td>\n",
       "      <td>...</td>\n",
       "      <td>...</td>\n",
       "      <td>...</td>\n",
       "      <td>...</td>\n",
       "      <td>...</td>\n",
       "      <td>...</td>\n",
       "    </tr>\n",
       "    <tr>\n",
       "      <th>2024-04-19</th>\n",
       "      <td>4967.229980</td>\n",
       "      <td>3878750000</td>\n",
       "      <td>5010.600098</td>\n",
       "      <td>1</td>\n",
       "      <td>0.995601</td>\n",
       "      <td>0.0</td>\n",
       "      <td>0.988945</td>\n",
       "      <td>0.0</td>\n",
       "      <td>0.976660</td>\n",
       "      <td>29.0</td>\n",
       "      <td>1.082887</td>\n",
       "      <td>135.0</td>\n",
       "      <td>1.203394</td>\n",
       "      <td>529.0</td>\n",
       "    </tr>\n",
       "    <tr>\n",
       "      <th>2024-04-22</th>\n",
       "      <td>5010.600098</td>\n",
       "      <td>3820250000</td>\n",
       "      <td>5070.549805</td>\n",
       "      <td>1</td>\n",
       "      <td>1.004347</td>\n",
       "      <td>1.0</td>\n",
       "      <td>0.999618</td>\n",
       "      <td>1.0</td>\n",
       "      <td>0.984812</td>\n",
       "      <td>29.0</td>\n",
       "      <td>1.091510</td>\n",
       "      <td>135.0</td>\n",
       "      <td>1.213284</td>\n",
       "      <td>530.0</td>\n",
       "    </tr>\n",
       "    <tr>\n",
       "      <th>2024-04-23</th>\n",
       "      <td>5070.549805</td>\n",
       "      <td>3751400000</td>\n",
       "      <td>5071.629883</td>\n",
       "      <td>1</td>\n",
       "      <td>1.005947</td>\n",
       "      <td>2.0</td>\n",
       "      <td>1.010806</td>\n",
       "      <td>2.0</td>\n",
       "      <td>0.996009</td>\n",
       "      <td>30.0</td>\n",
       "      <td>1.103609</td>\n",
       "      <td>136.0</td>\n",
       "      <td>1.227135</td>\n",
       "      <td>531.0</td>\n",
       "    </tr>\n",
       "    <tr>\n",
       "      <th>2024-04-24</th>\n",
       "      <td>5071.629883</td>\n",
       "      <td>3656740000</td>\n",
       "      <td>5048.419922</td>\n",
       "      <td>0</td>\n",
       "      <td>1.000106</td>\n",
       "      <td>2.0</td>\n",
       "      <td>1.009033</td>\n",
       "      <td>3.0</td>\n",
       "      <td>0.995752</td>\n",
       "      <td>30.0</td>\n",
       "      <td>1.102869</td>\n",
       "      <td>137.0</td>\n",
       "      <td>1.226735</td>\n",
       "      <td>531.0</td>\n",
       "    </tr>\n",
       "    <tr>\n",
       "      <th>2024-04-25</th>\n",
       "      <td>5048.419922</td>\n",
       "      <td>3958050000</td>\n",
       "      <td>5099.959961</td>\n",
       "      <td>1</td>\n",
       "      <td>0.997707</td>\n",
       "      <td>1.0</td>\n",
       "      <td>1.002927</td>\n",
       "      <td>3.0</td>\n",
       "      <td>0.990795</td>\n",
       "      <td>30.0</td>\n",
       "      <td>1.096950</td>\n",
       "      <td>136.0</td>\n",
       "      <td>1.220477</td>\n",
       "      <td>530.0</td>\n",
       "    </tr>\n",
       "  </tbody>\n",
       "</table>\n",
       "<p>23195 rows × 14 columns</p>\n",
       "</div>"
      ],
      "text/plain": [
       "                  Close      Volume     Tomorrow  Target  Close_Ratio_2  \\\n",
       "1931-12-29     7.960000           0     8.100000       1       1.012723   \n",
       "1931-12-30     8.100000           0     8.120000       1       1.008717   \n",
       "1931-12-31     8.120000           0     7.560000       0       1.001233   \n",
       "1932-01-04     7.560000           0     7.550000       0       0.964286   \n",
       "1932-01-05     7.550000           0     8.080000       1       0.999338   \n",
       "...                 ...         ...          ...     ...            ...   \n",
       "2024-04-19  4967.229980  3878750000  5010.600098       1       0.995601   \n",
       "2024-04-22  5010.600098  3820250000  5070.549805       1       1.004347   \n",
       "2024-04-23  5070.549805  3751400000  5071.629883       1       1.005947   \n",
       "2024-04-24  5071.629883  3656740000  5048.419922       0       1.000106   \n",
       "2024-04-25  5048.419922  3958050000  5099.959961       1       0.997707   \n",
       "\n",
       "            Trend_2  Close_Ratio_5  Trend_5  Close_Ratio_60  Trend_60  \\\n",
       "1931-12-29      1.0       0.996994      3.0        0.821282      24.0   \n",
       "1931-12-30      2.0       1.019381      3.0        0.837787      25.0   \n",
       "1931-12-31      2.0       1.017544      4.0        0.842149      25.0   \n",
       "1932-01-04      1.0       0.956962      3.0        0.785781      25.0   \n",
       "1932-01-05      0.0       0.960804      3.0        0.787963      24.0   \n",
       "...             ...            ...      ...             ...       ...   \n",
       "2024-04-19      0.0       0.988945      0.0        0.976660      29.0   \n",
       "2024-04-22      1.0       0.999618      1.0        0.984812      29.0   \n",
       "2024-04-23      2.0       1.010806      2.0        0.996009      30.0   \n",
       "2024-04-24      2.0       1.009033      3.0        0.995752      30.0   \n",
       "2024-04-25      1.0       1.002927      3.0        0.990795      30.0   \n",
       "\n",
       "            Close_Ratio_250  Trend_250  Close_Ratio_1000  Trend_1000  \n",
       "1931-12-29         0.582074      105.0          0.394305       521.0  \n",
       "1931-12-30         0.593657      105.0          0.401432       521.0  \n",
       "1931-12-31         0.596489      105.0          0.402615       522.0  \n",
       "1932-01-04         0.556754      104.0          0.375034       522.0  \n",
       "1932-01-05         0.557255      104.0          0.374726       521.0  \n",
       "...                     ...        ...               ...         ...  \n",
       "2024-04-19         1.082887      135.0          1.203394       529.0  \n",
       "2024-04-22         1.091510      135.0          1.213284       530.0  \n",
       "2024-04-23         1.103609      136.0          1.227135       531.0  \n",
       "2024-04-24         1.102869      137.0          1.226735       531.0  \n",
       "2024-04-25         1.096950      136.0          1.220477       530.0  \n",
       "\n",
       "[23195 rows x 14 columns]"
      ]
     },
     "execution_count": 37,
     "metadata": {},
     "output_type": "execute_result"
    }
   ],
   "source": [
    "sp500.index = sp500.index.date\n",
    "sp500"
   ]
  },
  {
   "cell_type": "code",
   "execution_count": 38,
   "id": "63e18ae9-1795-40c3-afd5-5fa80074283d",
   "metadata": {},
   "outputs": [
    {
     "data": {
      "text/plain": [
       "Index(['Close', 'Volume', 'Tomorrow', 'Target', 'Close_Ratio_2', 'Trend_2',\n",
       "       'Close_Ratio_5', 'Trend_5', 'Close_Ratio_60', 'Trend_60',\n",
       "       'Close_Ratio_250', 'Trend_250', 'Close_Ratio_1000', 'Trend_1000'],\n",
       "      dtype='object')"
      ]
     },
     "execution_count": 38,
     "metadata": {},
     "output_type": "execute_result"
    }
   ],
   "source": [
    "sp500.columns"
   ]
  },
  {
   "cell_type": "code",
   "execution_count": 55,
   "id": "c3948e3f-e2c5-48f4-9d42-a893bd2dc9e8",
   "metadata": {},
   "outputs": [
    {
     "data": {
      "text/plain": [
       "<Axes: >"
      ]
     },
     "execution_count": 55,
     "metadata": {},
     "output_type": "execute_result"
    },
    {
     "data": {
      "image/png": "[encoded data removed]",
      "text/plain": [
       "<Figure size 640x480 with 1 Axes>"
      ]
     },
     "metadata": {},
     "output_type": "display_data"
    }
   ],
   "source": [
    "sp500.plot.line(y=\"Close\")"
   ]
  },
  {
   "cell_type": "code",
   "execution_count": 40,
   "id": "496f3495-3019-4363-a6c2-b74d7daf59dd",
   "metadata": {},
   "outputs": [],
   "source": [
    "sp500 = sp500[['Close', 'Volume']].copy()"
   ]
  },
  {
   "cell_type": "code",
   "execution_count": 41,
   "id": "d2e84cc6-5d10-461a-aa1d-5dc44bddd35a",
   "metadata": {},
   "outputs": [
    {
     "data": {
      "text/html": [
       "<div>\n",
       "<style scoped>\n",
       "    .dataframe tbody tr th:only-of-type {\n",
       "        vertical-align: middle;\n",
       "    }\n",
       "\n",
       "    .dataframe tbody tr th {\n",
       "        vertical-align: top;\n",
       "    }\n",
       "\n",
       "    .dataframe thead th {\n",
       "        text-align: right;\n",
       "    }\n",
       "</style>\n",
       "<table border=\"1\" class=\"dataframe\">\n",
       "  <thead>\n",
       "    <tr style=\"text-align: right;\">\n",
       "      <th></th>\n",
       "      <th>Close</th>\n",
       "      <th>Volume</th>\n",
       "    </tr>\n",
       "  </thead>\n",
       "  <tbody>\n",
       "    <tr>\n",
       "      <th>1931-12-29</th>\n",
       "      <td>7.960000</td>\n",
       "      <td>0</td>\n",
       "    </tr>\n",
       "    <tr>\n",
       "      <th>1931-12-30</th>\n",
       "      <td>8.100000</td>\n",
       "      <td>0</td>\n",
       "    </tr>\n",
       "    <tr>\n",
       "      <th>1931-12-31</th>\n",
       "      <td>8.120000</td>\n",
       "      <td>0</td>\n",
       "    </tr>\n",
       "    <tr>\n",
       "      <th>1932-01-04</th>\n",
       "      <td>7.560000</td>\n",
       "      <td>0</td>\n",
       "    </tr>\n",
       "    <tr>\n",
       "      <th>1932-01-05</th>\n",
       "      <td>7.550000</td>\n",
       "      <td>0</td>\n",
       "    </tr>\n",
       "    <tr>\n",
       "      <th>...</th>\n",
       "      <td>...</td>\n",
       "      <td>...</td>\n",
       "    </tr>\n",
       "    <tr>\n",
       "      <th>2024-04-19</th>\n",
       "      <td>4967.229980</td>\n",
       "      <td>3878750000</td>\n",
       "    </tr>\n",
       "    <tr>\n",
       "      <th>2024-04-22</th>\n",
       "      <td>5010.600098</td>\n",
       "      <td>3820250000</td>\n",
       "    </tr>\n",
       "    <tr>\n",
       "      <th>2024-04-23</th>\n",
       "      <td>5070.549805</td>\n",
       "      <td>3751400000</td>\n",
       "    </tr>\n",
       "    <tr>\n",
       "      <th>2024-04-24</th>\n",
       "      <td>5071.629883</td>\n",
       "      <td>3656740000</td>\n",
       "    </tr>\n",
       "    <tr>\n",
       "      <th>2024-04-25</th>\n",
       "      <td>5048.419922</td>\n",
       "      <td>3958050000</td>\n",
       "    </tr>\n",
       "  </tbody>\n",
       "</table>\n",
       "<p>23195 rows × 2 columns</p>\n",
       "</div>"
      ],
      "text/plain": [
       "                  Close      Volume\n",
       "1931-12-29     7.960000           0\n",
       "1931-12-30     8.100000           0\n",
       "1931-12-31     8.120000           0\n",
       "1932-01-04     7.560000           0\n",
       "1932-01-05     7.550000           0\n",
       "...                 ...         ...\n",
       "2024-04-19  4967.229980  3878750000\n",
       "2024-04-22  5010.600098  3820250000\n",
       "2024-04-23  5070.549805  3751400000\n",
       "2024-04-24  5071.629883  3656740000\n",
       "2024-04-25  5048.419922  3958050000\n",
       "\n",
       "[23195 rows x 2 columns]"
      ]
     },
     "execution_count": 41,
     "metadata": {},
     "output_type": "execute_result"
    }
   ],
   "source": [
    "sp500"
   ]
  },
  {
   "cell_type": "code",
   "execution_count": 42,
   "id": "03671653-b354-4cf2-9818-7d8ff7c213f3",
   "metadata": {},
   "outputs": [],
   "source": [
    "sp500[\"Tomorrow\"] = sp500[\"Close\"].shift(-1)"
   ]
  },
  {
   "cell_type": "code",
   "execution_count": 43,
   "id": "24e4e82a-991a-47e8-8d7c-f62044466d09",
   "metadata": {},
   "outputs": [
    {
     "data": {
      "text/html": [
       "<div>\n",
       "<style scoped>\n",
       "    .dataframe tbody tr th:only-of-type {\n",
       "        vertical-align: middle;\n",
       "    }\n",
       "\n",
       "    .dataframe tbody tr th {\n",
       "        vertical-align: top;\n",
       "    }\n",
       "\n",
       "    .dataframe thead th {\n",
       "        text-align: right;\n",
       "    }\n",
       "</style>\n",
       "<table border=\"1\" class=\"dataframe\">\n",
       "  <thead>\n",
       "    <tr style=\"text-align: right;\">\n",
       "      <th></th>\n",
       "      <th>Close</th>\n",
       "      <th>Volume</th>\n",
       "      <th>Tomorrow</th>\n",
       "    </tr>\n",
       "  </thead>\n",
       "  <tbody>\n",
       "    <tr>\n",
       "      <th>1931-12-29</th>\n",
       "      <td>7.960000</td>\n",
       "      <td>0</td>\n",
       "      <td>8.100000</td>\n",
       "    </tr>\n",
       "    <tr>\n",
       "      <th>1931-12-30</th>\n",
       "      <td>8.100000</td>\n",
       "      <td>0</td>\n",
       "      <td>8.120000</td>\n",
       "    </tr>\n",
       "    <tr>\n",
       "      <th>1931-12-31</th>\n",
       "      <td>8.120000</td>\n",
       "      <td>0</td>\n",
       "      <td>7.560000</td>\n",
       "    </tr>\n",
       "    <tr>\n",
       "      <th>1932-01-04</th>\n",
       "      <td>7.560000</td>\n",
       "      <td>0</td>\n",
       "      <td>7.550000</td>\n",
       "    </tr>\n",
       "    <tr>\n",
       "      <th>1932-01-05</th>\n",
       "      <td>7.550000</td>\n",
       "      <td>0</td>\n",
       "      <td>8.080000</td>\n",
       "    </tr>\n",
       "    <tr>\n",
       "      <th>...</th>\n",
       "      <td>...</td>\n",
       "      <td>...</td>\n",
       "      <td>...</td>\n",
       "    </tr>\n",
       "    <tr>\n",
       "      <th>2024-04-19</th>\n",
       "      <td>4967.229980</td>\n",
       "      <td>3878750000</td>\n",
       "      <td>5010.600098</td>\n",
       "    </tr>\n",
       "    <tr>\n",
       "      <th>2024-04-22</th>\n",
       "      <td>5010.600098</td>\n",
       "      <td>3820250000</td>\n",
       "      <td>5070.549805</td>\n",
       "    </tr>\n",
       "    <tr>\n",
       "      <th>2024-04-23</th>\n",
       "      <td>5070.549805</td>\n",
       "      <td>3751400000</td>\n",
       "      <td>5071.629883</td>\n",
       "    </tr>\n",
       "    <tr>\n",
       "      <th>2024-04-24</th>\n",
       "      <td>5071.629883</td>\n",
       "      <td>3656740000</td>\n",
       "      <td>5048.419922</td>\n",
       "    </tr>\n",
       "    <tr>\n",
       "      <th>2024-04-25</th>\n",
       "      <td>5048.419922</td>\n",
       "      <td>3958050000</td>\n",
       "      <td>NaN</td>\n",
       "    </tr>\n",
       "  </tbody>\n",
       "</table>\n",
       "<p>23195 rows × 3 columns</p>\n",
       "</div>"
      ],
      "text/plain": [
       "                  Close      Volume     Tomorrow\n",
       "1931-12-29     7.960000           0     8.100000\n",
       "1931-12-30     8.100000           0     8.120000\n",
       "1931-12-31     8.120000           0     7.560000\n",
       "1932-01-04     7.560000           0     7.550000\n",
       "1932-01-05     7.550000           0     8.080000\n",
       "...                 ...         ...          ...\n",
       "2024-04-19  4967.229980  3878750000  5010.600098\n",
       "2024-04-22  5010.600098  3820250000  5070.549805\n",
       "2024-04-23  5070.549805  3751400000  5071.629883\n",
       "2024-04-24  5071.629883  3656740000  5048.419922\n",
       "2024-04-25  5048.419922  3958050000          NaN\n",
       "\n",
       "[23195 rows x 3 columns]"
      ]
     },
     "execution_count": 43,
     "metadata": {},
     "output_type": "execute_result"
    }
   ],
   "source": [
    "sp500"
   ]
  },
  {
   "cell_type": "code",
   "execution_count": 44,
   "id": "c8207908-e2e2-40ed-baf5-07950b8d716c",
   "metadata": {},
   "outputs": [],
   "source": [
    "sp500[\"Target\"]=(sp500[\"Tomorrow\"] > sp500[\"Close\"]).astype(int)"
   ]
  },
  {
   "cell_type": "code",
   "execution_count": 45,
   "id": "98723ddb-5793-46ef-a482-98e7c109d4f1",
   "metadata": {},
   "outputs": [
    {
     "data": {
      "text/html": [
       "<div>\n",
       "<style scoped>\n",
       "    .dataframe tbody tr th:only-of-type {\n",
       "        vertical-align: middle;\n",
       "    }\n",
       "\n",
       "    .dataframe tbody tr th {\n",
       "        vertical-align: top;\n",
       "    }\n",
       "\n",
       "    .dataframe thead th {\n",
       "        text-align: right;\n",
       "    }\n",
       "</style>\n",
       "<table border=\"1\" class=\"dataframe\">\n",
       "  <thead>\n",
       "    <tr style=\"text-align: right;\">\n",
       "      <th></th>\n",
       "      <th>Close</th>\n",
       "      <th>Volume</th>\n",
       "      <th>Tomorrow</th>\n",
       "      <th>Target</th>\n",
       "    </tr>\n",
       "  </thead>\n",
       "  <tbody>\n",
       "    <tr>\n",
       "      <th>1931-12-29</th>\n",
       "      <td>7.960000</td>\n",
       "      <td>0</td>\n",
       "      <td>8.100000</td>\n",
       "      <td>1</td>\n",
       "    </tr>\n",
       "    <tr>\n",
       "      <th>1931-12-30</th>\n",
       "      <td>8.100000</td>\n",
       "      <td>0</td>\n",
       "      <td>8.120000</td>\n",
       "      <td>1</td>\n",
       "    </tr>\n",
       "    <tr>\n",
       "      <th>1931-12-31</th>\n",
       "      <td>8.120000</td>\n",
       "      <td>0</td>\n",
       "      <td>7.560000</td>\n",
       "      <td>0</td>\n",
       "    </tr>\n",
       "    <tr>\n",
       "      <th>1932-01-04</th>\n",
       "      <td>7.560000</td>\n",
       "      <td>0</td>\n",
       "      <td>7.550000</td>\n",
       "      <td>0</td>\n",
       "    </tr>\n",
       "    <tr>\n",
       "      <th>1932-01-05</th>\n",
       "      <td>7.550000</td>\n",
       "      <td>0</td>\n",
       "      <td>8.080000</td>\n",
       "      <td>1</td>\n",
       "    </tr>\n",
       "    <tr>\n",
       "      <th>...</th>\n",
       "      <td>...</td>\n",
       "      <td>...</td>\n",
       "      <td>...</td>\n",
       "      <td>...</td>\n",
       "    </tr>\n",
       "    <tr>\n",
       "      <th>2024-04-19</th>\n",
       "      <td>4967.229980</td>\n",
       "      <td>3878750000</td>\n",
       "      <td>5010.600098</td>\n",
       "      <td>1</td>\n",
       "    </tr>\n",
       "    <tr>\n",
       "      <th>2024-04-22</th>\n",
       "      <td>5010.600098</td>\n",
       "      <td>3820250000</td>\n",
       "      <td>5070.549805</td>\n",
       "      <td>1</td>\n",
       "    </tr>\n",
       "    <tr>\n",
       "      <th>2024-04-23</th>\n",
       "      <td>5070.549805</td>\n",
       "      <td>3751400000</td>\n",
       "      <td>5071.629883</td>\n",
       "      <td>1</td>\n",
       "    </tr>\n",
       "    <tr>\n",
       "      <th>2024-04-24</th>\n",
       "      <td>5071.629883</td>\n",
       "      <td>3656740000</td>\n",
       "      <td>5048.419922</td>\n",
       "      <td>0</td>\n",
       "    </tr>\n",
       "    <tr>\n",
       "      <th>2024-04-25</th>\n",
       "      <td>5048.419922</td>\n",
       "      <td>3958050000</td>\n",
       "      <td>NaN</td>\n",
       "      <td>0</td>\n",
       "    </tr>\n",
       "  </tbody>\n",
       "</table>\n",
       "<p>23195 rows × 4 columns</p>\n",
       "</div>"
      ],
      "text/plain": [
       "                  Close      Volume     Tomorrow  Target\n",
       "1931-12-29     7.960000           0     8.100000       1\n",
       "1931-12-30     8.100000           0     8.120000       1\n",
       "1931-12-31     8.120000           0     7.560000       0\n",
       "1932-01-04     7.560000           0     7.550000       0\n",
       "1932-01-05     7.550000           0     8.080000       1\n",
       "...                 ...         ...          ...     ...\n",
       "2024-04-19  4967.229980  3878750000  5010.600098       1\n",
       "2024-04-22  5010.600098  3820250000  5070.549805       1\n",
       "2024-04-23  5070.549805  3751400000  5071.629883       1\n",
       "2024-04-24  5071.629883  3656740000  5048.419922       0\n",
       "2024-04-25  5048.419922  3958050000          NaN       0\n",
       "\n",
       "[23195 rows x 4 columns]"
      ]
     },
     "execution_count": 45,
     "metadata": {},
     "output_type": "execute_result"
    }
   ],
   "source": [
    "sp500"
   ]
  },
  {
   "cell_type": "markdown",
   "id": "801a5330-ead9-4edd-9a6e-dd8c5281f674",
   "metadata": {},
   "source": [
    "### Train the machine learning model"
   ]
  },
  {
   "cell_type": "code",
   "execution_count": 46,
   "id": "8f6dc7a6-fc1e-4724-890c-ffc6e8627d93",
   "metadata": {},
   "outputs": [
    {
     "data": {
      "text/html": [
       "<style>#sk-container-id-2 {color: black;}#sk-container-id-2 pre{padding: 0;}#sk-container-id-2 div.sk-toggleable {background-color: white;}#sk-container-id-2 label.sk-toggleable__label {cursor: pointer;display: block;width: 100%;margin-bottom: 0;padding: 0.3em;box-sizing: border-box;text-align: center;}#sk-container-id-2 label.sk-toggleable__label-arrow:before {content: \"▸\";float: left;margin-right: 0.25em;color: #696969;}#sk-container-id-2 label.sk-toggleable__label-arrow:hover:before {color: black;}#sk-container-id-2 div.sk-estimator:hover label.sk-toggleable__label-arrow:before {color: black;}#sk-container-id-2 div.sk-toggleable__content {max-height: 0;max-width: 0;overflow: hidden;text-align: left;background-color: #f0f8ff;}#sk-container-id-2 div.sk-toggleable__content pre {margin: 0.2em;color: black;border-radius: 0.25em;background-color: #f0f8ff;}#sk-container-id-2 input.sk-toggleable__control:checked~div.sk-toggleable__content {max-height: 200px;max-width: 100%;overflow: auto;}#sk-container-id-2 input.sk-toggleable__control:checked~label.sk-toggleable__label-arrow:before {content: \"▾\";}#sk-container-id-2 div.sk-estimator input.sk-toggleable__control:checked~label.sk-toggleable__label {background-color: #d4ebff;}#sk-container-id-2 div.sk-label input.sk-toggleable__control:checked~label.sk-toggleable__label {background-color: #d4ebff;}#sk-container-id-2 input.sk-hidden--visually {border: 0;clip: rect(1px 1px 1px 1px);clip: rect(1px, 1px, 1px, 1px);height: 1px;margin: -1px;overflow: hidden;padding: 0;position: absolute;width: 1px;}#sk-container-id-2 div.sk-estimator {font-family: monospace;background-color: #f0f8ff;border: 1px dotted black;border-radius: 0.25em;box-sizing: border-box;margin-bottom: 0.5em;}#sk-container-id-2 div.sk-estimator:hover {background-color: #d4ebff;}#sk-container-id-2 div.sk-parallel-item::after {content: \"\";width: 100%;border-bottom: 1px solid gray;flex-grow: 1;}#sk-container-id-2 div.sk-label:hover label.sk-toggleable__label {background-color: #d4ebff;}#sk-container-id-2 div.sk-serial::before {content: \"\";position: absolute;border-left: 1px solid gray;box-sizing: border-box;top: 0;bottom: 0;left: 50%;z-index: 0;}#sk-container-id-2 div.sk-serial {display: flex;flex-direction: column;align-items: center;background-color: white;padding-right: 0.2em;padding-left: 0.2em;position: relative;}#sk-container-id-2 div.sk-item {position: relative;z-index: 1;}#sk-container-id-2 div.sk-parallel {display: flex;align-items: stretch;justify-content: center;background-color: white;position: relative;}#sk-container-id-2 div.sk-item::before, #sk-container-id-2 div.sk-parallel-item::before {content: \"\";position: absolute;border-left: 1px solid gray;box-sizing: border-box;top: 0;bottom: 0;left: 50%;z-index: -1;}#sk-container-id-2 div.sk-parallel-item {display: flex;flex-direction: column;z-index: 1;position: relative;background-color: white;}#sk-container-id-2 div.sk-parallel-item:first-child::after {align-self: flex-end;width: 50%;}#sk-container-id-2 div.sk-parallel-item:last-child::after {align-self: flex-start;width: 50%;}#sk-container-id-2 div.sk-parallel-item:only-child::after {width: 0;}#sk-container-id-2 div.sk-dashed-wrapped {border: 1px dashed gray;margin: 0 0.4em 0.5em 0.4em;box-sizing: border-box;padding-bottom: 0.4em;background-color: white;}#sk-container-id-2 div.sk-label label {font-family: monospace;font-weight: bold;display: inline-block;line-height: 1.2em;}#sk-container-id-2 div.sk-label-container {text-align: center;}#sk-container-id-2 div.sk-container {/* jupyter's `normalize.less` sets `[hidden] { display: none; }` but bootstrap.min.css set `[hidden] { display: none !important; }` so we also need the `!important` here to be able to override the default hidden behavior on the sphinx rendered scikit-learn.org. See: https://github.com/scikit-learn/scikit-learn/issues/21755 */display: inline-block !important;position: relative;}#sk-container-id-2 div.sk-text-repr-fallback {display: none;}</style><div id=\"sk-container-id-2\" class=\"sk-top-container\"><div class=\"sk-text-repr-fallback\"><pre>RandomForestClassifier(min_samples_split=100, random_state=1)</pre><b>In a Jupyter environment, please rerun this cell to show the HTML representation or trust the notebook. <br />On GitHub, the HTML representation is unable to render, please try loading this page with nbviewer.org.</b></div><div class=\"sk-container\" hidden><div class=\"sk-item\"><div class=\"sk-estimator sk-toggleable\"><input class=\"sk-toggleable__control sk-hidden--visually\" id=\"sk-estimator-id-2\" type=\"checkbox\" checked><label for=\"sk-estimator-id-2\" class=\"sk-toggleable__label sk-toggleable__label-arrow\">RandomForestClassifier</label><div class=\"sk-toggleable__content\"><pre>RandomForestClassifier(min_samples_split=100, random_state=1)</pre></div></div></div></div></div>"
      ],
      "text/plain": [
       "RandomForestClassifier(min_samples_split=100, random_state=1)"
      ]
     },
     "execution_count": 46,
     "metadata": {},
     "output_type": "execute_result"
    }
   ],
   "source": [
    "from sklearn.ensemble import RandomForestClassifier as RFC\n",
    "\n",
    "model = RFC(n_estimators = 100, min_samples_split = 100, random_state = 1)\n",
    "\n",
    "train = sp500.iloc[:-100]\n",
    "test = sp500.iloc[-100:]\n",
    "\n",
    "predictors = [\"Close\", \"Volume\"]\n",
    "model.fit(train[predictors],train[\"Target\"])"
   ]
  },
  {
   "cell_type": "code",
   "execution_count": 47,
   "id": "ddbcfdaa-5422-4479-adbb-aa142bf6c093",
   "metadata": {},
   "outputs": [],
   "source": [
    "from sklearn.metrics import precision_score \n",
    "\n",
    "preds = model.predict(test[predictors])"
   ]
  },
  {
   "cell_type": "code",
   "execution_count": 48,
   "id": "5e3a6699-1247-4ac6-9aed-2a99e9abd3cf",
   "metadata": {},
   "outputs": [],
   "source": [
    "preds = pd.Series(preds,index=test.index)"
   ]
  },
  {
   "cell_type": "code",
   "execution_count": 49,
   "id": "6688b837-1a8d-43eb-9102-c8c0f2fb7573",
   "metadata": {},
   "outputs": [
    {
     "data": {
      "text/plain": [
       "0.7"
      ]
     },
     "execution_count": 49,
     "metadata": {},
     "output_type": "execute_result"
    }
   ],
   "source": [
    "precision_score(test[\"Target\"], preds)"
   ]
  },
  {
   "cell_type": "code",
   "execution_count": 50,
   "id": "696426e7-aa96-4206-8e25-31512a035d88",
   "metadata": {},
   "outputs": [],
   "source": [
    "combined = pd.concat([test[\"Target\"],preds],axis=1)"
   ]
  },
  {
   "cell_type": "code",
   "execution_count": 51,
   "id": "b6394716-2175-4a84-80d4-b70fedf925e8",
   "metadata": {},
   "outputs": [
    {
     "data": {
      "text/plain": [
       "<Axes: >"
      ]
     },
     "execution_count": 51,
     "metadata": {},
     "output_type": "execute_result"
    },
    {
     "data": {
      "image/png": "[encoded data removed]",
      "text/plain": [
       "<Figure size 640x480 with 1 Axes>"
      ]
     },
     "metadata": {},
     "output_type": "display_data"
    }
   ],
   "source": [
    "combined.plot()"
   ]
  },
  {
   "cell_type": "code",
   "execution_count": 52,
   "id": "ae2d71b6-92f1-4eff-bfd8-73dcbd85d64f",
   "metadata": {},
   "outputs": [],
   "source": [
    "def predict(train, test, predictors, model):\n",
    "    model.fit(train[predictors],train[\"Target\"])\n",
    "    preds = model.predict(test[predictors])\n",
    "    preds = pd.Series (preds,index = test.index, name=\"Predictions\")\n",
    "    combined = pd.concat([test[\"Target\"], preds],axis=1)\n",
    "    return combined"
   ]
  },
  {
   "cell_type": "code",
   "execution_count": 53,
   "id": "50bc78c3-44a4-45c7-adbc-d12ea55d9f15",
   "metadata": {},
   "outputs": [],
   "source": [
    "def backtest(data, model, predictors, start=2500, step=250):\n",
    "    all_predictions = []\n",
    "\n",
    "    for i in range(start, data.shape[0], step):\n",
    "        train = data.iloc[0:i].copy()\n",
    "        test = data.iloc[i:(i+step)].copy()\n",
    "        predictions = predict (train, test, predictors, model)\n",
    "        all_predictions.append(predictions)\n",
    "    return pd.concat(all_predictions)\n",
    "    "
   ]
  },
  {
   "cell_type": "code",
   "execution_count": 54,
   "id": "6104fac5-7098-445d-8299-13c105ba4277",
   "metadata": {},
   "outputs": [],
   "source": [
    "predictions = backtest(sp500, model, predictors)"
   ]
  },
  {
   "cell_type": "code",
   "execution_count": 56,
   "id": "f44b62aa-6956-4cc0-a2de-83d0b0c96b85",
   "metadata": {},
   "outputs": [
    {
     "data": {
      "text/plain": [
       "Predictions\n",
       "0    11417\n",
       "1     9278\n",
       "Name: count, dtype: int64"
      ]
     },
     "execution_count": 56,
     "metadata": {},
     "output_type": "execute_result"
    }
   ],
   "source": [
    "predictions[\"Predictions\"].value_counts()"
   ]
  },
  {
   "cell_type": "code",
   "execution_count": 57,
   "id": "0e01d06d-893f-402c-9308-e6085b7e2a68",
   "metadata": {},
   "outputs": [
    {
     "data": {
      "text/plain": [
       "0.5203707695624057"
      ]
     },
     "execution_count": 57,
     "metadata": {},
     "output_type": "execute_result"
    }
   ],
   "source": [
    "precision_score(predictions[\"Target\"], predictions[\"Predictions\"])"
   ]
  },
  {
   "cell_type": "code",
   "execution_count": 58,
   "id": "faa41871-1c30-4b83-a5cb-012a3c4c6d09",
   "metadata": {},
   "outputs": [
    {
     "data": {
      "text/plain": [
       "Target\n",
       "1    0.528823\n",
       "0    0.471177\n",
       "Name: count, dtype: float64"
      ]
     },
     "execution_count": 58,
     "metadata": {},
     "output_type": "execute_result"
    }
   ],
   "source": [
    "predictions[\"Target\"].value_counts() / predictions.shape[0]"
   ]
  },
  {
   "cell_type": "code",
   "execution_count": 59,
   "id": "9f3c4853-8412-4d49-9ce8-7d0f76fe4d92",
   "metadata": {},
   "outputs": [],
   "source": [
    "horizons = [2,5,60,250,1000]\n",
    "new_predictors = []\n",
    "\n",
    "for horizon in horizons:\n",
    "    rolling_averages = sp500.rolling(horizon).mean()\n",
    "    ratio_column = f\"Close_Ratio_{horizon}\"\n",
    "    sp500[ratio_column] = sp500 [\"Close\"] / rolling_averages[\"Close\"]\n",
    "\n",
    "    trend_column = f\"Trend_{horizon}\"\n",
    "    sp500[trend_column]=sp500.shift(1).rolling(horizon).sum()[\"Target\"]\n",
    "\n",
    "    new_predictors += [ratio_column, trend_column]"
   ]
  },
  {
   "cell_type": "code",
   "execution_count": 60,
   "id": "f7323626-f702-4c9a-848e-c3ab11ace84d",
   "metadata": {},
   "outputs": [
    {
     "data": {
      "text/plain": [
       "['Close_Ratio_2',\n",
       " 'Trend_2',\n",
       " 'Close_Ratio_5',\n",
       " 'Trend_5',\n",
       " 'Close_Ratio_60',\n",
       " 'Trend_60',\n",
       " 'Close_Ratio_250',\n",
       " 'Trend_250',\n",
       " 'Close_Ratio_1000',\n",
       " 'Trend_1000']"
      ]
     },
     "execution_count": 60,
     "metadata": {},
     "output_type": "execute_result"
    }
   ],
   "source": [
    "new_predictors"
   ]
  },
  {
   "cell_type": "code",
   "execution_count": 61,
   "id": "4d7f3841-f0f1-4350-8a8c-5169efc2cdcb",
   "metadata": {},
   "outputs": [],
   "source": [
    "sp500 = sp500.dropna()"
   ]
  },
  {
   "cell_type": "code",
   "execution_count": 62,
   "id": "0ba963f3-f647-4e96-bbdc-f3f0dfefed6e",
   "metadata": {},
   "outputs": [
    {
     "data": {
      "text/html": [
       "<div>\n",
       "<style scoped>\n",
       "    .dataframe tbody tr th:only-of-type {\n",
       "        vertical-align: middle;\n",
       "    }\n",
       "\n",
       "    .dataframe tbody tr th {\n",
       "        vertical-align: top;\n",
       "    }\n",
       "\n",
       "    .dataframe thead th {\n",
       "        text-align: right;\n",
       "    }\n",
       "</style>\n",
       "<table border=\"1\" class=\"dataframe\">\n",
       "  <thead>\n",
       "    <tr style=\"text-align: right;\">\n",
       "      <th></th>\n",
       "      <th>Close</th>\n",
       "      <th>Volume</th>\n",
       "      <th>Tomorrow</th>\n",
       "      <th>Target</th>\n",
       "      <th>Close_Ratio_2</th>\n",
       "      <th>Trend_2</th>\n",
       "      <th>Close_Ratio_5</th>\n",
       "      <th>Trend_5</th>\n",
       "      <th>Close_Ratio_60</th>\n",
       "      <th>Trend_60</th>\n",
       "      <th>Close_Ratio_250</th>\n",
       "      <th>Trend_250</th>\n",
       "      <th>Close_Ratio_1000</th>\n",
       "      <th>Trend_1000</th>\n",
       "    </tr>\n",
       "  </thead>\n",
       "  <tbody>\n",
       "    <tr>\n",
       "      <th>1936-01-10</th>\n",
       "      <td>13.780000</td>\n",
       "      <td>0</td>\n",
       "      <td>13.720000</td>\n",
       "      <td>0</td>\n",
       "      <td>1.004007</td>\n",
       "      <td>1.0</td>\n",
       "      <td>1.010560</td>\n",
       "      <td>3.0</td>\n",
       "      <td>1.066921</td>\n",
       "      <td>36.0</td>\n",
       "      <td>1.288915</td>\n",
       "      <td>136.0</td>\n",
       "      <td>1.510418</td>\n",
       "      <td>481.0</td>\n",
       "    </tr>\n",
       "    <tr>\n",
       "      <th>1936-01-13</th>\n",
       "      <td>13.720000</td>\n",
       "      <td>0</td>\n",
       "      <td>13.800000</td>\n",
       "      <td>1</td>\n",
       "      <td>0.997818</td>\n",
       "      <td>1.0</td>\n",
       "      <td>1.001606</td>\n",
       "      <td>3.0</td>\n",
       "      <td>1.059760</td>\n",
       "      <td>35.0</td>\n",
       "      <td>1.281161</td>\n",
       "      <td>136.0</td>\n",
       "      <td>1.502916</td>\n",
       "      <td>480.0</td>\n",
       "    </tr>\n",
       "    <tr>\n",
       "      <th>1936-01-14</th>\n",
       "      <td>13.800000</td>\n",
       "      <td>0</td>\n",
       "      <td>13.710000</td>\n",
       "      <td>0</td>\n",
       "      <td>1.002907</td>\n",
       "      <td>1.0</td>\n",
       "      <td>1.004806</td>\n",
       "      <td>3.0</td>\n",
       "      <td>1.063420</td>\n",
       "      <td>35.0</td>\n",
       "      <td>1.286406</td>\n",
       "      <td>137.0</td>\n",
       "      <td>1.510739</td>\n",
       "      <td>480.0</td>\n",
       "    </tr>\n",
       "    <tr>\n",
       "      <th>1936-01-15</th>\n",
       "      <td>13.710000</td>\n",
       "      <td>0</td>\n",
       "      <td>13.770000</td>\n",
       "      <td>1</td>\n",
       "      <td>0.996728</td>\n",
       "      <td>1.0</td>\n",
       "      <td>0.998107</td>\n",
       "      <td>2.0</td>\n",
       "      <td>1.053791</td>\n",
       "      <td>35.0</td>\n",
       "      <td>1.275757</td>\n",
       "      <td>137.0</td>\n",
       "      <td>1.499877</td>\n",
       "      <td>480.0</td>\n",
       "    </tr>\n",
       "    <tr>\n",
       "      <th>1936-01-16</th>\n",
       "      <td>13.770000</td>\n",
       "      <td>0</td>\n",
       "      <td>13.750000</td>\n",
       "      <td>0</td>\n",
       "      <td>1.002183</td>\n",
       "      <td>1.0</td>\n",
       "      <td>1.001018</td>\n",
       "      <td>3.0</td>\n",
       "      <td>1.055806</td>\n",
       "      <td>35.0</td>\n",
       "      <td>1.279069</td>\n",
       "      <td>137.0</td>\n",
       "      <td>1.505417</td>\n",
       "      <td>481.0</td>\n",
       "    </tr>\n",
       "    <tr>\n",
       "      <th>...</th>\n",
       "      <td>...</td>\n",
       "      <td>...</td>\n",
       "      <td>...</td>\n",
       "      <td>...</td>\n",
       "      <td>...</td>\n",
       "      <td>...</td>\n",
       "      <td>...</td>\n",
       "      <td>...</td>\n",
       "      <td>...</td>\n",
       "      <td>...</td>\n",
       "      <td>...</td>\n",
       "      <td>...</td>\n",
       "      <td>...</td>\n",
       "      <td>...</td>\n",
       "    </tr>\n",
       "    <tr>\n",
       "      <th>2024-04-18</th>\n",
       "      <td>5011.120117</td>\n",
       "      <td>3619760000</td>\n",
       "      <td>4967.229980</td>\n",
       "      <td>0</td>\n",
       "      <td>0.998895</td>\n",
       "      <td>0.0</td>\n",
       "      <td>0.991517</td>\n",
       "      <td>0.0</td>\n",
       "      <td>0.985608</td>\n",
       "      <td>30.0</td>\n",
       "      <td>1.093250</td>\n",
       "      <td>136.0</td>\n",
       "      <td>1.214624</td>\n",
       "      <td>530.0</td>\n",
       "    </tr>\n",
       "    <tr>\n",
       "      <th>2024-04-19</th>\n",
       "      <td>4967.229980</td>\n",
       "      <td>3878750000</td>\n",
       "      <td>5010.600098</td>\n",
       "      <td>1</td>\n",
       "      <td>0.995601</td>\n",
       "      <td>0.0</td>\n",
       "      <td>0.988945</td>\n",
       "      <td>0.0</td>\n",
       "      <td>0.976660</td>\n",
       "      <td>29.0</td>\n",
       "      <td>1.082887</td>\n",
       "      <td>135.0</td>\n",
       "      <td>1.203394</td>\n",
       "      <td>529.0</td>\n",
       "    </tr>\n",
       "    <tr>\n",
       "      <th>2024-04-22</th>\n",
       "      <td>5010.600098</td>\n",
       "      <td>3820250000</td>\n",
       "      <td>5070.549805</td>\n",
       "      <td>1</td>\n",
       "      <td>1.004347</td>\n",
       "      <td>1.0</td>\n",
       "      <td>0.999618</td>\n",
       "      <td>1.0</td>\n",
       "      <td>0.984812</td>\n",
       "      <td>29.0</td>\n",
       "      <td>1.091510</td>\n",
       "      <td>135.0</td>\n",
       "      <td>1.213284</td>\n",
       "      <td>530.0</td>\n",
       "    </tr>\n",
       "    <tr>\n",
       "      <th>2024-04-23</th>\n",
       "      <td>5070.549805</td>\n",
       "      <td>3751400000</td>\n",
       "      <td>5071.629883</td>\n",
       "      <td>1</td>\n",
       "      <td>1.005947</td>\n",
       "      <td>2.0</td>\n",
       "      <td>1.010806</td>\n",
       "      <td>2.0</td>\n",
       "      <td>0.996009</td>\n",
       "      <td>30.0</td>\n",
       "      <td>1.103609</td>\n",
       "      <td>136.0</td>\n",
       "      <td>1.227135</td>\n",
       "      <td>531.0</td>\n",
       "    </tr>\n",
       "    <tr>\n",
       "      <th>2024-04-24</th>\n",
       "      <td>5071.629883</td>\n",
       "      <td>3656740000</td>\n",
       "      <td>5048.419922</td>\n",
       "      <td>0</td>\n",
       "      <td>1.000106</td>\n",
       "      <td>2.0</td>\n",
       "      <td>1.009033</td>\n",
       "      <td>3.0</td>\n",
       "      <td>0.995752</td>\n",
       "      <td>30.0</td>\n",
       "      <td>1.102869</td>\n",
       "      <td>137.0</td>\n",
       "      <td>1.226735</td>\n",
       "      <td>531.0</td>\n",
       "    </tr>\n",
       "  </tbody>\n",
       "</table>\n",
       "<p>22194 rows × 14 columns</p>\n",
       "</div>"
      ],
      "text/plain": [
       "                  Close      Volume     Tomorrow  Target  Close_Ratio_2  \\\n",
       "1936-01-10    13.780000           0    13.720000       0       1.004007   \n",
       "1936-01-13    13.720000           0    13.800000       1       0.997818   \n",
       "1936-01-14    13.800000           0    13.710000       0       1.002907   \n",
       "1936-01-15    13.710000           0    13.770000       1       0.996728   \n",
       "1936-01-16    13.770000           0    13.750000       0       1.002183   \n",
       "...                 ...         ...          ...     ...            ...   \n",
       "2024-04-18  5011.120117  3619760000  4967.229980       0       0.998895   \n",
       "2024-04-19  4967.229980  3878750000  5010.600098       1       0.995601   \n",
       "2024-04-22  5010.600098  3820250000  5070.549805       1       1.004347   \n",
       "2024-04-23  5070.549805  3751400000  5071.629883       1       1.005947   \n",
       "2024-04-24  5071.629883  3656740000  5048.419922       0       1.000106   \n",
       "\n",
       "            Trend_2  Close_Ratio_5  Trend_5  Close_Ratio_60  Trend_60  \\\n",
       "1936-01-10      1.0       1.010560      3.0        1.066921      36.0   \n",
       "1936-01-13      1.0       1.001606      3.0        1.059760      35.0   \n",
       "1936-01-14      1.0       1.004806      3.0        1.063420      35.0   \n",
       "1936-01-15      1.0       0.998107      2.0        1.053791      35.0   \n",
       "1936-01-16      1.0       1.001018      3.0        1.055806      35.0   \n",
       "...             ...            ...      ...             ...       ...   \n",
       "2024-04-18      0.0       0.991517      0.0        0.985608      30.0   \n",
       "2024-04-19      0.0       0.988945      0.0        0.976660      29.0   \n",
       "2024-04-22      1.0       0.999618      1.0        0.984812      29.0   \n",
       "2024-04-23      2.0       1.010806      2.0        0.996009      30.0   \n",
       "2024-04-24      2.0       1.009033      3.0        0.995752      30.0   \n",
       "\n",
       "            Close_Ratio_250  Trend_250  Close_Ratio_1000  Trend_1000  \n",
       "1936-01-10         1.288915      136.0          1.510418       481.0  \n",
       "1936-01-13         1.281161      136.0          1.502916       480.0  \n",
       "1936-01-14         1.286406      137.0          1.510739       480.0  \n",
       "1936-01-15         1.275757      137.0          1.499877       480.0  \n",
       "1936-01-16         1.279069      137.0          1.505417       481.0  \n",
       "...                     ...        ...               ...         ...  \n",
       "2024-04-18         1.093250      136.0          1.214624       530.0  \n",
       "2024-04-19         1.082887      135.0          1.203394       529.0  \n",
       "2024-04-22         1.091510      135.0          1.213284       530.0  \n",
       "2024-04-23         1.103609      136.0          1.227135       531.0  \n",
       "2024-04-24         1.102869      137.0          1.226735       531.0  \n",
       "\n",
       "[22194 rows x 14 columns]"
      ]
     },
     "execution_count": 62,
     "metadata": {},
     "output_type": "execute_result"
    }
   ],
   "source": [
    "sp500"
   ]
  },
  {
   "cell_type": "code",
   "execution_count": 63,
   "id": "0f23cafd-148e-4d16-95ad-138662c0d7f4",
   "metadata": {},
   "outputs": [],
   "source": [
    "model = RFC(n_estimators = 200, min_samples_split =50, random_state = 1) "
   ]
  },
  {
   "cell_type": "code",
   "execution_count": 64,
   "id": "657acacc-9c70-4eca-afe0-69454f42a59e",
   "metadata": {},
   "outputs": [],
   "source": [
    "def predict(train, test, predictors, model):\n",
    "    model.fit(train[predictors],train[\"Target\"])\n",
    "    preds = model.predict_proba(test[predictors])[:,1]\n",
    "    preds [preds >= .6] = 1\n",
    "    preds [preds < .6] = 0\n",
    "    preds = pd.Series (preds,index = test.index, name=\"Predictions\")\n",
    "    combined = pd.concat([test[\"Target\"], preds],axis=1)\n",
    "    return combined"
   ]
  },
  {
   "cell_type": "code",
   "execution_count": 65,
   "id": "279e5617-3c7d-47ff-95ed-9270ec9c0e4f",
   "metadata": {},
   "outputs": [],
   "source": [
    "predictions = backtest(sp500, model, new_predictors)"
   ]
  },
  {
   "cell_type": "code",
   "execution_count": 66,
   "id": "c34a9062-e49b-46da-ab4a-70c01700c6e4",
   "metadata": {},
   "outputs": [
    {
     "data": {
      "text/plain": [
       "Predictions\n",
       "0.0    16445\n",
       "1.0     3249\n",
       "Name: count, dtype: int64"
      ]
     },
     "execution_count": 66,
     "metadata": {},
     "output_type": "execute_result"
    }
   ],
   "source": [
    "predictions[\"Predictions\"].value_counts()"
   ]
  },
  {
   "cell_type": "code",
   "execution_count": 67,
   "id": "8fdcd873-a30a-4498-bfb1-f5c2b63af1dc",
   "metadata": {},
   "outputs": [
    {
     "data": {
      "text/plain": [
       "0.5924899969221299"
      ]
     },
     "execution_count": 67,
     "metadata": {},
     "output_type": "execute_result"
    }
   ],
   "source": [
    "precision_score(predictions[\"Target\"], predictions[\"Predictions\"])"
   ]
  },
  {
   "cell_type": "code",
   "execution_count": 68,
   "id": "8f83d563-32e3-42f0-b906-44e1620125c4",
   "metadata": {},
   "outputs": [
    {
     "data": {
      "text/plain": [
       "Predictions\n",
       "0.0    0.835026\n",
       "1.0    0.164974\n",
       "Name: count, dtype: float64"
      ]
     },
     "execution_count": 68,
     "metadata": {},
     "output_type": "execute_result"
    }
   ],
   "source": [
    "predictions[\"Predictions\"].value_counts() / predictions.shape[0]"
   ]
  },
  {
   "cell_type": "code",
   "execution_count": 69,
   "id": "2c848358-cc98-40f9-bb04-89b2180b19cc",
   "metadata": {},
   "outputs": [
    {
     "data": {
      "text/html": [
       "<div>\n",
       "<style scoped>\n",
       "    .dataframe tbody tr th:only-of-type {\n",
       "        vertical-align: middle;\n",
       "    }\n",
       "\n",
       "    .dataframe tbody tr th {\n",
       "        vertical-align: top;\n",
       "    }\n",
       "\n",
       "    .dataframe thead th {\n",
       "        text-align: right;\n",
       "    }\n",
       "</style>\n",
       "<table border=\"1\" class=\"dataframe\">\n",
       "  <thead>\n",
       "    <tr style=\"text-align: right;\">\n",
       "      <th></th>\n",
       "      <th>Target</th>\n",
       "      <th>Predictions</th>\n",
       "    </tr>\n",
       "  </thead>\n",
       "  <tbody>\n",
       "    <tr>\n",
       "      <th>1946-01-09</th>\n",
       "      <td>1</td>\n",
       "      <td>0.0</td>\n",
       "    </tr>\n",
       "    <tr>\n",
       "      <th>1946-01-10</th>\n",
       "      <td>1</td>\n",
       "      <td>0.0</td>\n",
       "    </tr>\n",
       "    <tr>\n",
       "      <th>1946-01-11</th>\n",
       "      <td>1</td>\n",
       "      <td>0.0</td>\n",
       "    </tr>\n",
       "    <tr>\n",
       "      <th>1946-01-14</th>\n",
       "      <td>1</td>\n",
       "      <td>0.0</td>\n",
       "    </tr>\n",
       "    <tr>\n",
       "      <th>1946-01-15</th>\n",
       "      <td>1</td>\n",
       "      <td>0.0</td>\n",
       "    </tr>\n",
       "    <tr>\n",
       "      <th>...</th>\n",
       "      <td>...</td>\n",
       "      <td>...</td>\n",
       "    </tr>\n",
       "    <tr>\n",
       "      <th>2024-04-18</th>\n",
       "      <td>0</td>\n",
       "      <td>0.0</td>\n",
       "    </tr>\n",
       "    <tr>\n",
       "      <th>2024-04-19</th>\n",
       "      <td>1</td>\n",
       "      <td>0.0</td>\n",
       "    </tr>\n",
       "    <tr>\n",
       "      <th>2024-04-22</th>\n",
       "      <td>1</td>\n",
       "      <td>0.0</td>\n",
       "    </tr>\n",
       "    <tr>\n",
       "      <th>2024-04-23</th>\n",
       "      <td>1</td>\n",
       "      <td>0.0</td>\n",
       "    </tr>\n",
       "    <tr>\n",
       "      <th>2024-04-24</th>\n",
       "      <td>0</td>\n",
       "      <td>0.0</td>\n",
       "    </tr>\n",
       "  </tbody>\n",
       "</table>\n",
       "<p>19694 rows × 2 columns</p>\n",
       "</div>"
      ],
      "text/plain": [
       "            Target  Predictions\n",
       "1946-01-09       1          0.0\n",
       "1946-01-10       1          0.0\n",
       "1946-01-11       1          0.0\n",
       "1946-01-14       1          0.0\n",
       "1946-01-15       1          0.0\n",
       "...            ...          ...\n",
       "2024-04-18       0          0.0\n",
       "2024-04-19       1          0.0\n",
       "2024-04-22       1          0.0\n",
       "2024-04-23       1          0.0\n",
       "2024-04-24       0          0.0\n",
       "\n",
       "[19694 rows x 2 columns]"
      ]
     },
     "execution_count": 69,
     "metadata": {},
     "output_type": "execute_result"
    }
   ],
   "source": [
    "predictions"
   ]
  },
  {
   "cell_type": "markdown",
   "id": "1f41bb12-6f46-4182-8248-f756a38c36a5",
   "metadata": {},
   "source": [
    "## S&P 500 on average increased 15 % of the time and gone down by 85% of the time in the last 20695 trading days"
   ]
  },
  {
   "cell_type": "code",
   "execution_count": null,
   "id": "083df9d3-1af5-49d1-b131-116354d3911d",
   "metadata": {},
   "outputs": [],
   "source": []
  }
 ],
 "metadata": {
  "kernelspec": {
   "display_name": "Python 3 (ipykernel)",
   "language": "python",
   "name": "python3"
  },
  "language_info": {
   "codemirror_mode": {
    "name": "ipython",
    "version": 3
   },
   "file_extension": ".py",
   "mimetype": "text/x-python",
   "name": "python",
   "nbconvert_exporter": "python",
   "pygments_lexer": "ipython3",
   "version": "3.11.4"
  }
 },
 "nbformat": 4,
 "nbformat_minor": 5
}
