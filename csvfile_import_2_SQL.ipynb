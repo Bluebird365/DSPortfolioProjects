{
 "cells": [
  {
   "cell_type": "markdown",
   "id": "0f36f22d-2f2c-4c87-9bcf-2f93893ff853",
   "metadata": {},
   "source": [
    "#### Importing a csv file into a postgresql database\n",
    "\n",
    "#### STEPS\n",
    "\n",
    "- Import the CSV file into a pandas df\n",
    "- Clean the table name and remove all extra symbols, spaces, capital letters\n",
    "- clean the column headers and remove all extra symbols, space, capital letters\n",
    "- write the create table SQL statement\n",
    "- import the data into the db"
   ]
  },
  {
   "cell_type": "code",
   "execution_count": 1,
   "id": "ea65c01e-0420-43f0-b085-1afb139681cd",
   "metadata": {},
   "outputs": [],
   "source": [
    "#import libraries\n",
    "\n",
    "import os\n",
    "import numpy as np\n",
    "import pandas as pd\n",
    "import psycopg2"
   ]
  },
  {
   "cell_type": "code",
   "execution_count": null,
   "id": "43859a68-64c7-4cfb-94b7-9d49771c4e7e",
   "metadata": {},
   "outputs": [],
   "source": [
    "!ls"
   ]
  },
  {
   "cell_type": "code",
   "execution_count": 8,
   "id": "e9ca96f1-74e8-4316-b7e5-5177b681ca6b",
   "metadata": {},
   "outputs": [
    {
     "data": {
      "text/html": [
       "<div>\n",
       "<style scoped>\n",
       "    .dataframe tbody tr th:only-of-type {\n",
       "        vertical-align: middle;\n",
       "    }\n",
       "\n",
       "    .dataframe tbody tr th {\n",
       "        vertical-align: top;\n",
       "    }\n",
       "\n",
       "    .dataframe thead th {\n",
       "        text-align: right;\n",
       "    }\n",
       "</style>\n",
       "<table border=\"1\" class=\"dataframe\">\n",
       "  <thead>\n",
       "    <tr style=\"text-align: right;\">\n",
       "      <th></th>\n",
       "      <th>customer_name</th>\n",
       "      <th>start_date</th>\n",
       "      <th>end_date</th>\n",
       "      <th>contract_amount_m</th>\n",
       "      <th>invoice_sent</th>\n",
       "      <th>paid</th>\n",
       "    </tr>\n",
       "  </thead>\n",
       "  <tbody>\n",
       "    <tr>\n",
       "      <th>0</th>\n",
       "      <td>Nike</td>\n",
       "      <td>01-02-2019</td>\n",
       "      <td>12-20-2020</td>\n",
       "      <td>2.98</td>\n",
       "      <td>Yes</td>\n",
       "      <td>Yes</td>\n",
       "    </tr>\n",
       "    <tr>\n",
       "      <th>1</th>\n",
       "      <td>Reebox</td>\n",
       "      <td>06-20-2017</td>\n",
       "      <td>NaN</td>\n",
       "      <td>3.90</td>\n",
       "      <td>No</td>\n",
       "      <td>No</td>\n",
       "    </tr>\n",
       "    <tr>\n",
       "      <th>2</th>\n",
       "      <td>Adidas</td>\n",
       "      <td>12-07-2015</td>\n",
       "      <td>6-20-2018</td>\n",
       "      <td>4.82</td>\n",
       "      <td>Yes</td>\n",
       "      <td>Yes</td>\n",
       "    </tr>\n",
       "    <tr>\n",
       "      <th>3</th>\n",
       "      <td>Google</td>\n",
       "      <td>05-25-2014</td>\n",
       "      <td>03-20-2017</td>\n",
       "      <td>5.74</td>\n",
       "      <td>Yes</td>\n",
       "      <td>No</td>\n",
       "    </tr>\n",
       "    <tr>\n",
       "      <th>4</th>\n",
       "      <td>Amazon</td>\n",
       "      <td>11-10-2012</td>\n",
       "      <td>12-20-2015</td>\n",
       "      <td>6.66</td>\n",
       "      <td>No</td>\n",
       "      <td>Yes</td>\n",
       "    </tr>\n",
       "  </tbody>\n",
       "</table>\n",
       "</div>"
      ],
      "text/plain": [
       "  customer_name  start_date    end_date  contract_amount_m invoice_sent paid\n",
       "0          Nike  01-02-2019  12-20-2020               2.98          Yes  Yes\n",
       "1        Reebox  06-20-2017         NaN               3.90           No   No\n",
       "2        Adidas  12-07-2015   6-20-2018               4.82          Yes  Yes\n",
       "3        Google  05-25-2014  03-20-2017               5.74          Yes   No\n",
       "4        Amazon  11-10-2012  12-20-2015               6.66           No  Yes"
      ]
     },
     "execution_count": 8,
     "metadata": {},
     "output_type": "execute_result"
    }
   ],
   "source": [
    "df = pd.read_csv(\"Downloads/Customer Contracts$.csv\")\n",
    "df.head()"
   ]
  },
  {
   "cell_type": "code",
   "execution_count": 11,
   "id": "92b0b396-0224-4b01-9363-7f929bb541f7",
   "metadata": {},
   "outputs": [
    {
     "data": {
      "text/plain": [
       "'customer_contracts'"
      ]
     },
     "execution_count": 11,
     "metadata": {},
     "output_type": "execute_result"
    }
   ],
   "source": [
    "#Clean Table Names\n",
    "# lower case letters\n",
    "# remove all white spaces\n",
    "# repalce -,/,\\\\,$, with __\n",
    "\n",
    "file = \"Customer Contracts$\"\n",
    "\n",
    "clean_tbl_name = file.lower().replace(\" \",\"_\").replace(\"?\",\"\") \\\n",
    "                    .replace(\"-\",\"_\").replace(r\"/\",\"_\").replace(\"\\\\\",\"_\").replace(\"%\",\"\") \\\n",
    "                    .replace(\")\",\"\").replace(r\"(\",\"\").replace(\"$\",\"\")\n",
    "\n",
    "clean_tbl_name\n"
   ]
  },
  {
   "cell_type": "code",
   "execution_count": 15,
   "id": "e55b6e27-7d0e-4698-ba54-517db2c6b104",
   "metadata": {},
   "outputs": [
    {
     "data": {
      "text/plain": [
       "Index(['customer_name', 'start_date', 'end_date', 'contract_amount_m',\n",
       "       'invoice_sent', 'paid'],\n",
       "      dtype='object')"
      ]
     },
     "execution_count": 15,
     "metadata": {},
     "output_type": "execute_result"
    }
   ],
   "source": [
    "#Clean Header Names\n",
    "# lower case letters\n",
    "# remove all white spaces\n",
    "# repalce -,/,\\\\,$, with __\n",
    "\n",
    "\n",
    "df.columns = [x.lower().replace(\" \",\"_\").replace(\"?\",\"\") \\\n",
    "                    .replace(\"-\",\"_\").replace(r\"/\",\"_\").replace(\"\\\\\",\"_\").replace(\"%\",\"\") \\\n",
    "                    .replace(\")\",\"\").replace(r\"(\",\"\").replace(\"$\",\"\") for x in df.columns]\n",
    "df.columns\n"
   ]
  },
  {
   "cell_type": "code",
   "execution_count": 19,
   "id": "1900499f-f59d-45ff-8727-83699ba2091a",
   "metadata": {},
   "outputs": [
    {
     "ename": "SyntaxError",
     "evalue": "invalid syntax (4128993740.py, line 1)",
     "output_type": "error",
     "traceback": [
      "\u001b[0;36m  Cell \u001b[0;32mIn[19], line 1\u001b[0;36m\u001b[0m\n\u001b[0;31m    create table customer_contracts\u001b[0m\n\u001b[0m           ^\u001b[0m\n\u001b[0;31mSyntaxError\u001b[0m\u001b[0;31m:\u001b[0m invalid syntax\n"
     ]
    }
   ],
   "source": [
    "create table customer_contracts\n",
    "(\n",
    "    customer_name      varchar,\n",
    "    start_date         varchar,\n",
    "    end_date           varchar,\n",
    "    contract_amount_m  float,\n",
    "    invoice_sent       varchar,\n",
    "    paid               varchar,\n",
    ");"
   ]
  },
  {
   "cell_type": "code",
   "execution_count": 17,
   "id": "0227a6bf-97fa-4e67-8ba7-5f9a4083ea64",
   "metadata": {},
   "outputs": [
    {
     "data": {
      "text/plain": [
       "customer_name         object\n",
       "start_date            object\n",
       "end_date              object\n",
       "contract_amount_m    float64\n",
       "invoice_sent          object\n",
       "paid                  object\n",
       "dtype: object"
      ]
     },
     "execution_count": 17,
     "metadata": {},
     "output_type": "execute_result"
    }
   ],
   "source": [
    "df.dtypes"
   ]
  },
  {
   "cell_type": "code",
   "execution_count": 18,
   "id": "2776adaa-549e-4874-996e-c0386e595ad0",
   "metadata": {},
   "outputs": [
    {
     "data": {
      "text/plain": [
       "{'object': 'varchar',\n",
       " 'float64': 'float',\n",
       " 'int64': 'int',\n",
       " 'datetime64': 'timestamp',\n",
       " 'timedelta64[ns]': 'varchar'}"
      ]
     },
     "execution_count": 18,
     "metadata": {},
     "output_type": "execute_result"
    }
   ],
   "source": [
    "replacements = {\n",
    "    'object':'varchar',\n",
    "    'float64':'float',\n",
    "    'int64':'int',\n",
    "    'datetime64':'timestamp',\n",
    "    'timedelta64[ns]': 'varchar'\n",
    "}\n",
    "replacements"
   ]
  },
  {
   "cell_type": "code",
   "execution_count": 21,
   "id": "7b734143-9ac2-496b-8cbd-02863c22681d",
   "metadata": {},
   "outputs": [
    {
     "data": {
      "text/plain": [
       "'customer_name varchar, start_date varchar, end_date varchar, contract_amount_m float, invoice_sent varchar, paid varchar'"
      ]
     },
     "execution_count": 21,
     "metadata": {},
     "output_type": "execute_result"
    }
   ],
   "source": [
    "col_str = \", \".join(\"{} {}\".format(n, d) for (n,d) in zip(df.columns, df.dtypes.replace(replacements)))\n",
    "col_str"
   ]
  },
  {
   "cell_type": "code",
   "execution_count": 45,
   "id": "376912b1-6afa-43d1-8d4b-9b6d6667dbfe",
   "metadata": {},
   "outputs": [
    {
     "name": "stdout",
     "output_type": "stream",
     "text": [
      "opened database successfully\n"
     ]
    }
   ],
   "source": [
    "# Open a database connection \n",
    "# update user,password,host,port and database name\n",
    "\n",
    "conn = psycopg2.connect(user=\"postgres\",\n",
    "            password = \"password\", \n",
    "            host = \"127.0.0.1\",\n",
    "            port = \"5432\",\n",
    "            database = \"dbase\")\n",
    "cursor = conn.cursor()\n",
    "print('opened database successfully')\n"
   ]
  },
  {
   "cell_type": "code",
   "execution_count": 46,
   "id": "8ac57f51-eece-4b89-9bd1-f7f0058f9bb4",
   "metadata": {},
   "outputs": [],
   "source": [
    "#drop tables with same name\n",
    "\n",
    "cursor.execute(\"drop table if exists customer_contracts;\")"
   ]
  },
  {
   "cell_type": "code",
   "execution_count": 47,
   "id": "051d2bb5-2d28-44e5-a432-0a063fac567f",
   "metadata": {},
   "outputs": [],
   "source": [
    "#create table\n",
    "cursor.execute(\"create table customer_contracts (customer_name varchar, start_date varchar, end_date varchar, contract_amount_m float,invoice_sent varchar, paid varchar)\")"
   ]
  },
  {
   "cell_type": "code",
   "execution_count": 49,
   "id": "9361ff6b-2960-4bb9-8f0b-89a326602002",
   "metadata": {},
   "outputs": [
    {
     "name": "stdout",
     "output_type": "stream",
     "text": [
      "file opened in memory\n"
     ]
    }
   ],
   "source": [
    "#insert values to table \n",
    "\n",
    "#save df to csv\n",
    "df.to_csv('customer_contracts.csv',header=df.columns,index=False,encoding='utf8')\n",
    "\n",
    "#open the csv file, save it as an object, and upload to db\n",
    "my_file = open('customer_contracts.csv')\n",
    "print('file opened in memory')"
   ]
  },
  {
   "cell_type": "code",
   "execution_count": 50,
   "id": "43845d43-9ecb-40d0-ba9c-f9cfb23e4527",
   "metadata": {},
   "outputs": [
    {
     "name": "stdout",
     "output_type": "stream",
     "text": [
      "file copied to db\n"
     ]
    }
   ],
   "source": [
    "#upload to db\n",
    "\n",
    "SQL_STATEMENT = \"\"\"\n",
    "COPY customer_contracts FROM STDIN WITH\n",
    "    CSV\n",
    "    HEADER\n",
    "    DELIMITER AS ','\n",
    "\"\"\"\n",
    "\n",
    "cursor.copy_expert(sql=SQL_STATEMENT,file=my_file)\n",
    "print('file copied to db')"
   ]
  },
  {
   "cell_type": "code",
   "execution_count": 51,
   "id": "f6b7edcb-3929-405e-b4e5-ce27057152c1",
   "metadata": {},
   "outputs": [
    {
     "name": "stdout",
     "output_type": "stream",
     "text": [
      "table customer_contracts imported to db completed\n"
     ]
    }
   ],
   "source": [
    "cursor.execute(\"grant select on table customer_contracts to public\")\n",
    "conn.commit()\n",
    "\n",
    "cursor.close()\n",
    "print('table customer_contracts imported to db completed')"
   ]
  },
  {
   "cell_type": "code",
   "execution_count": 54,
   "id": "3bc0ae65-90e1-44ef-8420-4e29a0aa4f54",
   "metadata": {},
   "outputs": [],
   "source": [
    "# Only if you want to give access to all the user who has access to your database\n",
    "# cursor.execute(\"grant select on table customer_contracts to public\")\n",
    "# conn.commit()\n",
    "\n",
    "# cursor.close()\n",
    "# print('table customer_contracts imported to db completed')"
   ]
  },
  {
   "cell_type": "code",
   "execution_count": null,
   "id": "37b6ebc7-0eb6-4559-bb92-88bd6591cd13",
   "metadata": {},
   "outputs": [],
   "source": []
  }
 ],
 "metadata": {
  "kernelspec": {
   "display_name": "Python 3 (ipykernel)",
   "language": "python",
   "name": "python3"
  },
  "language_info": {
   "codemirror_mode": {
    "name": "ipython",
    "version": 3
   },
   "file_extension": ".py",
   "mimetype": "text/x-python",
   "name": "python",
   "nbconvert_exporter": "python",
   "pygments_lexer": "ipython3",
   "version": "3.11.4"
  }
 },
 "nbformat": 4,
 "nbformat_minor": 5
}
